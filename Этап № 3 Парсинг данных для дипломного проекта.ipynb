{
 "cells": [
  {
   "cell_type": "code",
   "execution_count": 31,
   "metadata": {},
   "outputs": [],
   "source": [
    "import pandas as pd\n",
    "import numpy as np\n",
    "import seaborn as sns\n",
    "from matplotlib import pyplot as plt\n",
    "from scipy.stats import norm\n",
    "from scipy import stats\n",
    "from sklearn.preprocessing import MinMaxScaler\n",
    "from sklearn.model_selection import train_test_split\n",
    "%matplotlib inline\n",
    "import warnings\n",
    "warnings.filterwarnings(\"ignore\")"
   ]
  },
  {
   "cell_type": "markdown",
   "metadata": {},
   "source": [
    "#### The datafile contains stock market price of AAPL (Apple) from Jan 1990 to Nov 2021.\n",
    "\n",
    "https://www.kaggle.com/himanshuagrawal26/aapl-stock-price"
   ]
  },
  {
   "cell_type": "code",
   "execution_count": 32,
   "metadata": {},
   "outputs": [],
   "source": [
    "apple_path = '/Users/ekaterina/Desktop/LEARN/IT/УИИ/МОЙ AI-ПРОЕКТ/AAPL.csv'\n"
   ]
  },
  {
   "cell_type": "code",
   "execution_count": 33,
   "metadata": {},
   "outputs": [
    {
     "name": "stdout",
     "output_type": "stream",
     "text": [
      "Data is loaded!\n",
      "CPU times: user 15.3 ms, sys: 4.37 ms, total: 19.7 ms\n",
      "Wall time: 26.6 ms\n"
     ]
    }
   ],
   "source": [
    "%%time\n",
    "apple = pd.read_csv(apple_path, sep = ',')\n",
    "print(\"Data is loaded!\")"
   ]
  },
  {
   "cell_type": "code",
   "execution_count": 34,
   "metadata": {
    "scrolled": true
   },
   "outputs": [
    {
     "data": {
      "text/html": [
       "<div>\n",
       "<style scoped>\n",
       "    .dataframe tbody tr th:only-of-type {\n",
       "        vertical-align: middle;\n",
       "    }\n",
       "\n",
       "    .dataframe tbody tr th {\n",
       "        vertical-align: top;\n",
       "    }\n",
       "\n",
       "    .dataframe thead th {\n",
       "        text-align: right;\n",
       "    }\n",
       "</style>\n",
       "<table border=\"1\" class=\"dataframe\">\n",
       "  <thead>\n",
       "    <tr style=\"text-align: right;\">\n",
       "      <th></th>\n",
       "      <th>Date</th>\n",
       "      <th>Open</th>\n",
       "      <th>High</th>\n",
       "      <th>Low</th>\n",
       "      <th>Close</th>\n",
       "      <th>Adj Close</th>\n",
       "      <th>Volume</th>\n",
       "    </tr>\n",
       "  </thead>\n",
       "  <tbody>\n",
       "    <tr>\n",
       "      <th>0</th>\n",
       "      <td>02-01-1990</td>\n",
       "      <td>0.314732</td>\n",
       "      <td>0.334821</td>\n",
       "      <td>0.312500</td>\n",
       "      <td>0.332589</td>\n",
       "      <td>0.266423</td>\n",
       "      <td>183198400</td>\n",
       "    </tr>\n",
       "    <tr>\n",
       "      <th>1</th>\n",
       "      <td>03-01-1990</td>\n",
       "      <td>0.339286</td>\n",
       "      <td>0.339286</td>\n",
       "      <td>0.334821</td>\n",
       "      <td>0.334821</td>\n",
       "      <td>0.268211</td>\n",
       "      <td>207995200</td>\n",
       "    </tr>\n",
       "    <tr>\n",
       "      <th>2</th>\n",
       "      <td>04-01-1990</td>\n",
       "      <td>0.341518</td>\n",
       "      <td>0.345982</td>\n",
       "      <td>0.332589</td>\n",
       "      <td>0.335938</td>\n",
       "      <td>0.269106</td>\n",
       "      <td>221513600</td>\n",
       "    </tr>\n",
       "    <tr>\n",
       "      <th>3</th>\n",
       "      <td>05-01-1990</td>\n",
       "      <td>0.337054</td>\n",
       "      <td>0.341518</td>\n",
       "      <td>0.330357</td>\n",
       "      <td>0.337054</td>\n",
       "      <td>0.270000</td>\n",
       "      <td>123312000</td>\n",
       "    </tr>\n",
       "    <tr>\n",
       "      <th>4</th>\n",
       "      <td>08-01-1990</td>\n",
       "      <td>0.334821</td>\n",
       "      <td>0.339286</td>\n",
       "      <td>0.330357</td>\n",
       "      <td>0.339286</td>\n",
       "      <td>0.271788</td>\n",
       "      <td>101572800</td>\n",
       "    </tr>\n",
       "  </tbody>\n",
       "</table>\n",
       "</div>"
      ],
      "text/plain": [
       "         Date      Open      High       Low     Close  Adj Close     Volume\n",
       "0  02-01-1990  0.314732  0.334821  0.312500  0.332589   0.266423  183198400\n",
       "1  03-01-1990  0.339286  0.339286  0.334821  0.334821   0.268211  207995200\n",
       "2  04-01-1990  0.341518  0.345982  0.332589  0.335938   0.269106  221513600\n",
       "3  05-01-1990  0.337054  0.341518  0.330357  0.337054   0.270000  123312000\n",
       "4  08-01-1990  0.334821  0.339286  0.330357  0.339286   0.271788  101572800"
      ]
     },
     "execution_count": 34,
     "metadata": {},
     "output_type": "execute_result"
    }
   ],
   "source": [
    "apple.head()"
   ]
  },
  {
   "cell_type": "code",
   "execution_count": 35,
   "metadata": {},
   "outputs": [
    {
     "name": "stdout",
     "output_type": "stream",
     "text": [
      "Index(['Date', 'Open', 'High', 'Low', 'Close', 'Adj Close', 'Volume'], dtype='object')\n"
     ]
    }
   ],
   "source": [
    "print(apple.columns)"
   ]
  },
  {
   "cell_type": "markdown",
   "metadata": {},
   "source": [
    "Open Price\n",
    "\n",
    "Highest price in a day\n",
    "\n",
    "Lowest price in a day\n",
    "\n",
    "**Closing price**\n",
    "\n",
    "Adjusted Closing price\n",
    "\n",
    "Volume of shares bought or sold in a day\n"
   ]
  },
  {
   "cell_type": "markdown",
   "metadata": {},
   "source": [
    "**Целевая переменная**: Close  (Closing price)\n",
    "\n",
    "**Основная метрика**: R2 - коэффициент детерминации (sklearn.metrics.r2_score) \n",
    "\n",
    "**Вспомогательная метрика**: MSE - средняя квадратичная ошибка (sklearn.metrics.mean_squared_error)\n"
   ]
  },
  {
   "cell_type": "code",
   "execution_count": 36,
   "metadata": {},
   "outputs": [
    {
     "name": "stdout",
     "output_type": "stream",
     "text": [
      "<class 'pandas.core.frame.DataFrame'>\n",
      "RangeIndex: 8042 entries, 0 to 8041\n",
      "Data columns (total 7 columns):\n",
      " #   Column     Non-Null Count  Dtype  \n",
      "---  ------     --------------  -----  \n",
      " 0   Date       8042 non-null   object \n",
      " 1   Open       8042 non-null   float64\n",
      " 2   High       8042 non-null   float64\n",
      " 3   Low        8042 non-null   float64\n",
      " 4   Close      8042 non-null   float64\n",
      " 5   Adj Close  8042 non-null   float64\n",
      " 6   Volume     8042 non-null   int64  \n",
      "dtypes: float64(5), int64(1), object(1)\n",
      "memory usage: 439.9+ KB\n"
     ]
    }
   ],
   "source": [
    "apple.info()"
   ]
  },
  {
   "cell_type": "code",
   "execution_count": 37,
   "metadata": {},
   "outputs": [
    {
     "data": {
      "text/html": [
       "<div>\n",
       "<style scoped>\n",
       "    .dataframe tbody tr th:only-of-type {\n",
       "        vertical-align: middle;\n",
       "    }\n",
       "\n",
       "    .dataframe tbody tr th {\n",
       "        vertical-align: top;\n",
       "    }\n",
       "\n",
       "    .dataframe thead th {\n",
       "        text-align: right;\n",
       "    }\n",
       "</style>\n",
       "<table border=\"1\" class=\"dataframe\">\n",
       "  <thead>\n",
       "    <tr style=\"text-align: right;\">\n",
       "      <th></th>\n",
       "      <th>count</th>\n",
       "      <th>mean</th>\n",
       "      <th>std</th>\n",
       "      <th>min</th>\n",
       "      <th>25%</th>\n",
       "      <th>50%</th>\n",
       "      <th>75%</th>\n",
       "      <th>max</th>\n",
       "    </tr>\n",
       "  </thead>\n",
       "  <tbody>\n",
       "    <tr>\n",
       "      <th>Open</th>\n",
       "      <td>8042.0</td>\n",
       "      <td>1.635192e+01</td>\n",
       "      <td>2.969813e+01</td>\n",
       "      <td>1.149550e-01</td>\n",
       "      <td>3.672660e-01</td>\n",
       "      <td>2.111071e+00</td>\n",
       "      <td>2.120420e+01</td>\n",
       "      <td>1.616800e+02</td>\n",
       "    </tr>\n",
       "    <tr>\n",
       "      <th>High</th>\n",
       "      <td>8042.0</td>\n",
       "      <td>1.652507e+01</td>\n",
       "      <td>3.002180e+01</td>\n",
       "      <td>1.183040e-01</td>\n",
       "      <td>3.750000e-01</td>\n",
       "      <td>2.138393e+00</td>\n",
       "      <td>2.136366e+01</td>\n",
       "      <td>1.657000e+02</td>\n",
       "    </tr>\n",
       "    <tr>\n",
       "      <th>Low</th>\n",
       "      <td>8042.0</td>\n",
       "      <td>1.617867e+01</td>\n",
       "      <td>2.938097e+01</td>\n",
       "      <td>1.138390e-01</td>\n",
       "      <td>3.589290e-01</td>\n",
       "      <td>2.058393e+00</td>\n",
       "      <td>2.098955e+01</td>\n",
       "      <td>1.610000e+02</td>\n",
       "    </tr>\n",
       "    <tr>\n",
       "      <th>Close</th>\n",
       "      <td>8042.0</td>\n",
       "      <td>1.635898e+01</td>\n",
       "      <td>2.971786e+01</td>\n",
       "      <td>1.155130e-01</td>\n",
       "      <td>3.671880e-01</td>\n",
       "      <td>2.106428e+00</td>\n",
       "      <td>2.117027e+01</td>\n",
       "      <td>1.653000e+02</td>\n",
       "    </tr>\n",
       "    <tr>\n",
       "      <th>Adj Close</th>\n",
       "      <td>8042.0</td>\n",
       "      <td>1.559438e+01</td>\n",
       "      <td>2.944848e+01</td>\n",
       "      <td>9.903700e-02</td>\n",
       "      <td>3.089235e-01</td>\n",
       "      <td>1.805978e+00</td>\n",
       "      <td>1.838979e+01</td>\n",
       "      <td>1.653000e+02</td>\n",
       "    </tr>\n",
       "    <tr>\n",
       "      <th>Volume</th>\n",
       "      <td>8042.0</td>\n",
       "      <td>3.831832e+08</td>\n",
       "      <td>3.633095e+08</td>\n",
       "      <td>2.396800e+06</td>\n",
       "      <td>1.478439e+08</td>\n",
       "      <td>2.664242e+08</td>\n",
       "      <td>4.808804e+08</td>\n",
       "      <td>7.421641e+09</td>\n",
       "    </tr>\n",
       "  </tbody>\n",
       "</table>\n",
       "</div>"
      ],
      "text/plain": [
       "            count          mean           std           min           25%  \\\n",
       "Open       8042.0  1.635192e+01  2.969813e+01  1.149550e-01  3.672660e-01   \n",
       "High       8042.0  1.652507e+01  3.002180e+01  1.183040e-01  3.750000e-01   \n",
       "Low        8042.0  1.617867e+01  2.938097e+01  1.138390e-01  3.589290e-01   \n",
       "Close      8042.0  1.635898e+01  2.971786e+01  1.155130e-01  3.671880e-01   \n",
       "Adj Close  8042.0  1.559438e+01  2.944848e+01  9.903700e-02  3.089235e-01   \n",
       "Volume     8042.0  3.831832e+08  3.633095e+08  2.396800e+06  1.478439e+08   \n",
       "\n",
       "                    50%           75%           max  \n",
       "Open       2.111071e+00  2.120420e+01  1.616800e+02  \n",
       "High       2.138393e+00  2.136366e+01  1.657000e+02  \n",
       "Low        2.058393e+00  2.098955e+01  1.610000e+02  \n",
       "Close      2.106428e+00  2.117027e+01  1.653000e+02  \n",
       "Adj Close  1.805978e+00  1.838979e+01  1.653000e+02  \n",
       "Volume     2.664242e+08  4.808804e+08  7.421641e+09  "
      ]
     },
     "execution_count": 37,
     "metadata": {},
     "output_type": "execute_result"
    }
   ],
   "source": [
    "apple.describe().transpose()"
   ]
  },
  {
   "cell_type": "code",
   "execution_count": 38,
   "metadata": {},
   "outputs": [
    {
     "name": "stdout",
     "output_type": "stream",
     "text": [
      "mu = 16.36 and sigma = 29.72\n"
     ]
    },
    {
     "data": {
      "text/plain": [
       "Text(0.5, 1.0, 'Volume distribution')"
      ]
     },
     "execution_count": 38,
     "metadata": {},
     "output_type": "execute_result"
    },
    {
     "data": {
      "image/png": "[encoded data removed]",
      "text/plain": [
       "<Figure size 432x288 with 1 Axes>"
      ]
     },
     "metadata": {
      "needs_background": "light"
     },
     "output_type": "display_data"
    }
   ],
   "source": [
    "sns.distplot(apple['Close'], fit=norm)\n",
    "\n",
    "mu, sigma = norm.fit(apple['Close'])\n",
    "\n",
    "print(f'mu = {mu:.2f} and sigma = {sigma:.2f}')\n",
    "\n",
    "plt.legend(\n",
    "    [f'Normal dist. ($\\mu=$ {mu:.2f} and $\\sigma=$ {sigma:.2f} )'])\n",
    "plt.ylabel('Frequency')\n",
    "plt.title('Volume distribution')\n",
    "\n"
   ]
  },
  {
   "cell_type": "code",
   "execution_count": 39,
   "metadata": {},
   "outputs": [
    {
     "data": {
      "image/png": "[encoded data removed]",
      "text/plain": [
       "<Figure size 432x288 with 1 Axes>"
      ]
     },
     "metadata": {
      "needs_background": "light"
     },
     "output_type": "display_data"
    }
   ],
   "source": [
    "# QQ-plot\n",
    "fig = plt.figure()\n",
    "res = stats.probplot(apple['Close'], plot=plt)\n",
    "plt.show()"
   ]
  },
  {
   "cell_type": "markdown",
   "metadata": {},
   "source": [
    "plt.figure(figsize=(18, 6))\n",
    "sns.barplot(apple['Open'], apple['Close'])\n",
    "plt.xticks(rotation=90)\n",
    "plt.title('Distribution of variable Open')"
   ]
  },
  {
   "cell_type": "code",
   "execution_count": 40,
   "metadata": {},
   "outputs": [
    {
     "data": {
      "text/plain": [
       "<matplotlib.axes._subplots.AxesSubplot at 0x7fe4e2297670>"
      ]
     },
     "execution_count": 40,
     "metadata": {},
     "output_type": "execute_result"
    },
    {
     "data": {
      "image/png": "[encoded data removed]",
      "text/plain": [
       "<Figure size 648x432 with 2 Axes>"
      ]
     },
     "metadata": {
      "needs_background": "light"
     },
     "output_type": "display_data"
    }
   ],
   "source": [
    "corrmat = apple.loc[:].corr()\n",
    "plt.subplots(figsize=(9, 6))\n",
    "sns.heatmap(corrmat, vmax=7, square=True)"
   ]
  },
  {
   "cell_type": "code",
   "execution_count": 41,
   "metadata": {},
   "outputs": [
    {
     "data": {
      "image/png": "[encoded data removed]",
      "text/plain": [
       "<Figure size 432x288 with 1 Axes>"
      ]
     },
     "metadata": {
      "needs_background": "light"
     },
     "output_type": "display_data"
    }
   ],
   "source": [
    "corrmat = apple.loc[:].corrwith(\n",
    "    apple['Close']).abs().sort_values(ascending=False)[1:]\n",
    "plt.bar(corrmat.index, corrmat.values)\n",
    "plt.title('Correlation to close')\n",
    "plt.xticks(rotation='vertical')\n",
    "plt.show()"
   ]
  },
  {
   "cell_type": "code",
   "execution_count": 42,
   "metadata": {},
   "outputs": [
    {
     "data": {
      "image/png": "[encoded data removed]",
      "text/plain": [
       "<Figure size 432x288 with 1 Axes>"
      ]
     },
     "metadata": {
      "needs_background": "light"
     },
     "output_type": "display_data"
    }
   ],
   "source": [
    "plt.scatter(apple['Open'], apple['Close'])\n",
    "plt.xlabel('Open')\n",
    "plt.ylabel('Close')\n",
    "plt.show()"
   ]
  },
  {
   "cell_type": "code",
   "execution_count": 46,
   "metadata": {},
   "outputs": [],
   "source": [
    "features = ['Date', 'Open', 'High', 'Low', 'Adj Close', 'Volume']\n",
    "target = 'Close'"
   ]
  },
  {
   "cell_type": "code",
   "execution_count": 47,
   "metadata": {},
   "outputs": [
    {
     "data": {
      "text/html": [
       "<div>\n",
       "<style scoped>\n",
       "    .dataframe tbody tr th:only-of-type {\n",
       "        vertical-align: middle;\n",
       "    }\n",
       "\n",
       "    .dataframe tbody tr th {\n",
       "        vertical-align: top;\n",
       "    }\n",
       "\n",
       "    .dataframe thead th {\n",
       "        text-align: right;\n",
       "    }\n",
       "</style>\n",
       "<table border=\"1\" class=\"dataframe\">\n",
       "  <thead>\n",
       "    <tr style=\"text-align: right;\">\n",
       "      <th></th>\n",
       "      <th>Date</th>\n",
       "      <th>Open</th>\n",
       "      <th>High</th>\n",
       "      <th>Low</th>\n",
       "      <th>Adj Close</th>\n",
       "      <th>Volume</th>\n",
       "    </tr>\n",
       "  </thead>\n",
       "  <tbody>\n",
       "    <tr>\n",
       "      <th>0</th>\n",
       "      <td>02-01-1990</td>\n",
       "      <td>0.314732</td>\n",
       "      <td>0.334821</td>\n",
       "      <td>0.312500</td>\n",
       "      <td>0.266423</td>\n",
       "      <td>183198400</td>\n",
       "    </tr>\n",
       "    <tr>\n",
       "      <th>1</th>\n",
       "      <td>03-01-1990</td>\n",
       "      <td>0.339286</td>\n",
       "      <td>0.339286</td>\n",
       "      <td>0.334821</td>\n",
       "      <td>0.268211</td>\n",
       "      <td>207995200</td>\n",
       "    </tr>\n",
       "    <tr>\n",
       "      <th>2</th>\n",
       "      <td>04-01-1990</td>\n",
       "      <td>0.341518</td>\n",
       "      <td>0.345982</td>\n",
       "      <td>0.332589</td>\n",
       "      <td>0.269106</td>\n",
       "      <td>221513600</td>\n",
       "    </tr>\n",
       "    <tr>\n",
       "      <th>3</th>\n",
       "      <td>05-01-1990</td>\n",
       "      <td>0.337054</td>\n",
       "      <td>0.341518</td>\n",
       "      <td>0.330357</td>\n",
       "      <td>0.270000</td>\n",
       "      <td>123312000</td>\n",
       "    </tr>\n",
       "    <tr>\n",
       "      <th>4</th>\n",
       "      <td>08-01-1990</td>\n",
       "      <td>0.334821</td>\n",
       "      <td>0.339286</td>\n",
       "      <td>0.330357</td>\n",
       "      <td>0.271788</td>\n",
       "      <td>101572800</td>\n",
       "    </tr>\n",
       "    <tr>\n",
       "      <th>...</th>\n",
       "      <td>...</td>\n",
       "      <td>...</td>\n",
       "      <td>...</td>\n",
       "      <td>...</td>\n",
       "      <td>...</td>\n",
       "      <td>...</td>\n",
       "    </tr>\n",
       "    <tr>\n",
       "      <th>8037</th>\n",
       "      <td>23-11-2021</td>\n",
       "      <td>161.119995</td>\n",
       "      <td>161.800003</td>\n",
       "      <td>159.059998</td>\n",
       "      <td>161.410004</td>\n",
       "      <td>96041900</td>\n",
       "    </tr>\n",
       "    <tr>\n",
       "      <th>8038</th>\n",
       "      <td>24-11-2021</td>\n",
       "      <td>160.750000</td>\n",
       "      <td>162.139999</td>\n",
       "      <td>159.639999</td>\n",
       "      <td>161.940002</td>\n",
       "      <td>69463600</td>\n",
       "    </tr>\n",
       "    <tr>\n",
       "      <th>8039</th>\n",
       "      <td>26-11-2021</td>\n",
       "      <td>159.570007</td>\n",
       "      <td>160.449997</td>\n",
       "      <td>156.360001</td>\n",
       "      <td>156.809998</td>\n",
       "      <td>76959800</td>\n",
       "    </tr>\n",
       "    <tr>\n",
       "      <th>8040</th>\n",
       "      <td>29-11-2021</td>\n",
       "      <td>159.369995</td>\n",
       "      <td>161.190002</td>\n",
       "      <td>158.789993</td>\n",
       "      <td>160.240005</td>\n",
       "      <td>88748200</td>\n",
       "    </tr>\n",
       "    <tr>\n",
       "      <th>8041</th>\n",
       "      <td>30-11-2021</td>\n",
       "      <td>159.990005</td>\n",
       "      <td>165.520004</td>\n",
       "      <td>159.919998</td>\n",
       "      <td>165.300003</td>\n",
       "      <td>174048100</td>\n",
       "    </tr>\n",
       "  </tbody>\n",
       "</table>\n",
       "<p>8042 rows × 6 columns</p>\n",
       "</div>"
      ],
      "text/plain": [
       "            Date        Open        High         Low   Adj Close     Volume\n",
       "0     02-01-1990    0.314732    0.334821    0.312500    0.266423  183198400\n",
       "1     03-01-1990    0.339286    0.339286    0.334821    0.268211  207995200\n",
       "2     04-01-1990    0.341518    0.345982    0.332589    0.269106  221513600\n",
       "3     05-01-1990    0.337054    0.341518    0.330357    0.270000  123312000\n",
       "4     08-01-1990    0.334821    0.339286    0.330357    0.271788  101572800\n",
       "...          ...         ...         ...         ...         ...        ...\n",
       "8037  23-11-2021  161.119995  161.800003  159.059998  161.410004   96041900\n",
       "8038  24-11-2021  160.750000  162.139999  159.639999  161.940002   69463600\n",
       "8039  26-11-2021  159.570007  160.449997  156.360001  156.809998   76959800\n",
       "8040  29-11-2021  159.369995  161.190002  158.789993  160.240005   88748200\n",
       "8041  30-11-2021  159.990005  165.520004  159.919998  165.300003  174048100\n",
       "\n",
       "[8042 rows x 6 columns]"
      ]
     },
     "execution_count": 47,
     "metadata": {},
     "output_type": "execute_result"
    }
   ],
   "source": [
    "apple[features]"
   ]
  },
  {
   "cell_type": "code",
   "execution_count": 51,
   "metadata": {},
   "outputs": [
    {
     "data": {
      "text/plain": [
       "0         0.332589\n",
       "1         0.334821\n",
       "2         0.335938\n",
       "3         0.337054\n",
       "4         0.339286\n",
       "           ...    \n",
       "8037    161.410004\n",
       "8038    161.940002\n",
       "8039    156.809998\n",
       "8040    160.240005\n",
       "8041    165.300003\n",
       "Name: Close, Length: 8042, dtype: float64"
      ]
     },
     "execution_count": 51,
     "metadata": {},
     "output_type": "execute_result"
    }
   ],
   "source": [
    "apple[target]"
   ]
  },
  {
   "cell_type": "code",
   "execution_count": 48,
   "metadata": {},
   "outputs": [],
   "source": [
    "X_train, X_test, y_train, y_test = train_test_split(\n",
    "    apple[features], apple[target], test_size=0.3, random_state=42)"
   ]
  },
  {
   "cell_type": "code",
   "execution_count": 49,
   "metadata": {},
   "outputs": [
    {
     "name": "stdout",
     "output_type": "stream",
     "text": [
      "<class 'pandas.core.frame.DataFrame'>\n",
      "Int64Index: 5629 entries, 7324 to 7270\n",
      "Data columns (total 6 columns):\n",
      " #   Column     Non-Null Count  Dtype  \n",
      "---  ------     --------------  -----  \n",
      " 0   Date       5629 non-null   object \n",
      " 1   Open       5629 non-null   float64\n",
      " 2   High       5629 non-null   float64\n",
      " 3   Low        5629 non-null   float64\n",
      " 4   Adj Close  5629 non-null   float64\n",
      " 5   Volume     5629 non-null   int64  \n",
      "dtypes: float64(4), int64(1), object(1)\n",
      "memory usage: 307.8+ KB\n"
     ]
    }
   ],
   "source": [
    "X_train.info()"
   ]
  },
  {
   "cell_type": "code",
   "execution_count": 50,
   "metadata": {},
   "outputs": [
    {
     "name": "stdout",
     "output_type": "stream",
     "text": [
      "<class 'pandas.core.frame.DataFrame'>\n",
      "Int64Index: 2413 entries, 8006 to 6638\n",
      "Data columns (total 6 columns):\n",
      " #   Column     Non-Null Count  Dtype  \n",
      "---  ------     --------------  -----  \n",
      " 0   Date       2413 non-null   object \n",
      " 1   Open       2413 non-null   float64\n",
      " 2   High       2413 non-null   float64\n",
      " 3   Low        2413 non-null   float64\n",
      " 4   Adj Close  2413 non-null   float64\n",
      " 5   Volume     2413 non-null   int64  \n",
      "dtypes: float64(4), int64(1), object(1)\n",
      "memory usage: 132.0+ KB\n"
     ]
    }
   ],
   "source": [
    "X_test.info()"
   ]
  },
  {
   "cell_type": "code",
   "execution_count": 52,
   "metadata": {},
   "outputs": [
    {
     "data": {
      "text/plain": [
       "7324    39.075001\n",
       "555      0.560268\n",
       "6773    26.777500\n",
       "1485     0.370536\n",
       "5746    23.206785\n",
       "Name: Close, dtype: float64"
      ]
     },
     "execution_count": 52,
     "metadata": {},
     "output_type": "execute_result"
    }
   ],
   "source": [
    "y_train.head()"
   ]
  },
  {
   "cell_type": "code",
   "execution_count": null,
   "metadata": {},
   "outputs": [],
   "source": []
  }
 ],
 "metadata": {
  "kernelspec": {
   "display_name": "Python 3",
   "language": "python",
   "name": "python3"
  },
  "language_info": {
   "codemirror_mode": {
    "name": "ipython",
    "version": 3
   },
   "file_extension": ".py",
   "mimetype": "text/x-python",
   "name": "python",
   "nbconvert_exporter": "python",
   "pygments_lexer": "ipython3",
   "version": "3.8.3"
  }
 },
 "nbformat": 4,
 "nbformat_minor": 4
}
